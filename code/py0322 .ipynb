{
 "cells": [
  {
   "cell_type": "code",
   "execution_count": null,
   "id": "prompt-compression",
   "metadata": {},
   "outputs": [],
   "source": [
    "# define class\n",
    "class Person: #class 클래스이름 :\n",
    "    #속성리스트\n",
    "    def __init__(self) :\n",
    "        self.name = \"\"\n",
    "        self.age = 0\n",
    "\n",
    "    #매서드\n",
    "    def greeting(self):\n",
    "        print(self.name, \"Hello\")\n",
    "        \n",
    "    def showinfo(self):\n",
    "        print(self.name, self.age)\n",
    "  \n",
    " # 객체변수 = 클래스생성자()\n",
    "hong = Person()     #인스턴스화 한다 \n",
    "hong.name = \"홍길동\"\n",
    "hong.age = 19\n",
    "hong.greeting()\n",
    "hong.showinfo()\n",
    "\n",
    "    "
   ]
  },
  {
   "cell_type": "code",
   "execution_count": null,
   "id": "rising-studio",
   "metadata": {},
   "outputs": [],
   "source": [
    "class Car:\n",
    "    def __init__(self. color = \"흰색\", speed = \"0\") : \n",
    "        self.color = color\n",
    "        self.speed = speed\n",
    "    \n",
    "    def upSpeed(self, number):\n",
    "        self.speed = self.number + number\n",
    "    def downSpeed(self, number): \n",
    "        self.speed -= number        \n",
    "    def showinfo(self):\n",
    "         print(self.color, self.speed)"
   ]
  },
  {
   "cell_type": "code",
   "execution_count": null,
   "id": "destroyed-closure",
   "metadata": {},
   "outputs": [],
   "source": [
    "car1 = Car()\n",
    "car1.showinfo()"
   ]
  },
  {
   "cell_type": "code",
   "execution_count": null,
   "id": "designed-fusion",
   "metadata": {},
   "outputs": [],
   "source": [
    "car2=Car(\"빨강\", 100)\n",
    "car2.showinfo()\n"
   ]
  },
  {
   "cell_type": "code",
   "execution_count": null,
   "id": "collective-colony",
   "metadata": {},
   "outputs": [],
   "source": [
    "redCar = Car()"
   ]
  },
  {
   "cell_type": "code",
   "execution_count": null,
   "id": "psychological-massachusetts",
   "metadata": {},
   "outputs": [],
   "source": [
    "redCar.color = \"red\""
   ]
  },
  {
   "cell_type": "raw",
   "id": "literary-uncle",
   "metadata": {},
   "source": [
    "redCar.color = "
   ]
  },
  {
   "cell_type": "code",
   "execution_count": null,
   "id": "roman-organic",
   "metadata": {},
   "outputs": [],
   "source": [
    "redCar.showinfo()"
   ]
  },
  {
   "cell_type": "code",
   "execution_count": null,
   "id": "animal-symphony",
   "metadata": {},
   "outputs": [],
   "source": [
    "redCar.upSpeed(100)\n",
    "redCar.showinfo()"
   ]
  },
  {
   "cell_type": "code",
   "execution_count": null,
   "id": "dried-bermuda",
   "metadata": {},
   "outputs": [],
   "source": [
    "class Person:\n",
    "      def __init__(self, name, age, address, wallet):\n",
    "        self.name = name\n",
    "        self.age = age\n",
    "        self.address = address\n",
    "        self.__wallet = wallet #비공개속성\n",
    "      \n",
    "      def  updateWallet(self, money): \n",
    "            self.__wallet += money\n",
    "\n",
    "hong = person(\"홍길동\", 19, \"청주시 상당구\", 10000)\n"
   ]
  },
  {
   "cell_type": "code",
   "execution_count": null,
   "id": "colonial-yacht",
   "metadata": {},
   "outputs": [],
   "source": [
    "class Person:\n",
    "    bag = [] #공백 리스트,클래스변수\n",
    "    def __init__(self):\n",
    "        self.bag = []\n",
    "        \n",
    "    def put_bag(self, item):\n",
    "        self.bag.append(item)"
   ]
  },
  {
   "cell_type": "code",
   "execution_count": null,
   "id": "accompanied-vintage",
   "metadata": {},
   "outputs": [],
   "source": [
    "james = Person()\n",
    "james.put_bag('책')\n",
    "maria = Person()\n",
    "maria.put_bag('열쇠')"
   ]
  },
  {
   "cell_type": "code",
   "execution_count": null,
   "id": "alone-travel",
   "metadata": {},
   "outputs": [],
   "source": [
    "james.put_bag('노트북')"
   ]
  },
  {
   "cell_type": "code",
   "execution_count": null,
   "id": "engaged-timeline",
   "metadata": {},
   "outputs": [],
   "source": [
    "print(maria.bag)"
   ]
  },
  {
   "cell_type": "code",
   "execution_count": null,
   "id": "minor-bathroom",
   "metadata": {},
   "outputs": [],
   "source": [
    "class Calc:\n",
    "    @staticmethod\n",
    "    def add(a, b):\n",
    "        print(a+b)\n",
    "    @staticmethod    \n",
    "    def mul(a,b):\n",
    "        print(a*b)\n",
    "        \n"
   ]
  },
  {
   "cell_type": "code",
   "execution_count": null,
   "id": "moderate-proportion",
   "metadata": {},
   "outputs": [],
   "source": [
    "        \n",
    "Calc.add(10,20)\n",
    "Calc.mul(10,20)"
   ]
  },
  {
   "cell_type": "code",
   "execution_count": 5,
   "id": "coordinate-miller",
   "metadata": {},
   "outputs": [
    {
     "ename": "IndentationError",
     "evalue": "unexpected unindent (<ipython-input-5-603b2841d2c3>, line 6)",
     "output_type": "error",
     "traceback": [
      "\u001b[1;36m  File \u001b[1;32m\"<ipython-input-5-603b2841d2c3>\"\u001b[1;36m, line \u001b[1;32m6\u001b[0m\n\u001b[1;33m    def print_count(cls):\u001b[0m\n\u001b[1;37m    ^\u001b[0m\n\u001b[1;31mIndentationError\u001b[0m\u001b[1;31m:\u001b[0m unexpected unindent\n"
     ]
    }
   ],
   "source": [
    "class Person:\n",
    "    count=0 #class 속성\n",
    "    def __init__(self):\n",
    "        Person.count +=1\n",
    "        @classmethod\n",
    "    def print_count(cls):\n",
    "            print(\"{0}명 생성되었습니다.\".format(cls.count))"
   ]
  },
  {
   "cell_type": "code",
   "execution_count": 6,
   "id": "operational-increase",
   "metadata": {},
   "outputs": [
    {
     "ename": "NameError",
     "evalue": "name 'person' is not defined",
     "output_type": "error",
     "traceback": [
      "\u001b[1;31m---------------------------------------------------------------------------\u001b[0m",
      "\u001b[1;31mNameError\u001b[0m                                 Traceback (most recent call last)",
      "\u001b[1;32m<ipython-input-6-649535bd9066>\u001b[0m in \u001b[0;36m<module>\u001b[1;34m\u001b[0m\n\u001b[1;32m----> 1\u001b[1;33m \u001b[0mjames\u001b[0m \u001b[1;33m=\u001b[0m \u001b[0mperson\u001b[0m\u001b[1;33m(\u001b[0m\u001b[1;33m)\u001b[0m\u001b[1;33m\u001b[0m\u001b[1;33m\u001b[0m\u001b[0m\n\u001b[0m",
      "\u001b[1;31mNameError\u001b[0m: name 'person' is not defined"
     ]
    }
   ],
   "source": [
    "james = person()"
   ]
  },
  {
   "cell_type": "code",
   "execution_count": 7,
   "id": "copyrighted-sector",
   "metadata": {},
   "outputs": [
    {
     "ename": "NameError",
     "evalue": "name 'james' is not defined",
     "output_type": "error",
     "traceback": [
      "\u001b[1;31m---------------------------------------------------------------------------\u001b[0m",
      "\u001b[1;31mNameError\u001b[0m                                 Traceback (most recent call last)",
      "\u001b[1;32m<ipython-input-7-64847f51562f>\u001b[0m in \u001b[0;36m<module>\u001b[1;34m\u001b[0m\n\u001b[1;32m----> 1\u001b[1;33m \u001b[0mjames\u001b[0m\u001b[1;33m.\u001b[0m\u001b[0mprint_count\u001b[0m\u001b[1;33m(\u001b[0m\u001b[1;33m)\u001b[0m\u001b[1;33m\u001b[0m\u001b[1;33m\u001b[0m\u001b[0m\n\u001b[0m",
      "\u001b[1;31mNameError\u001b[0m: name 'james' is not defined"
     ]
    }
   ],
   "source": [
    "james.print_count()"
   ]
  }
 ],
 "metadata": {
  "kernelspec": {
   "display_name": "Python 3",
   "language": "python",
   "name": "python3"
  },
  "language_info": {
   "codemirror_mode": {
    "name": "ipython",
    "version": 3
   },
   "file_extension": ".py",
   "mimetype": "text/x-python",
   "name": "python",
   "nbconvert_exporter": "python",
   "pygments_lexer": "ipython3",
   "version": "3.9.2"
  }
 },
 "nbformat": 4,
 "nbformat_minor": 5
}
