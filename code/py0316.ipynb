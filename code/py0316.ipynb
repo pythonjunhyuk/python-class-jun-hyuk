{
 "cells": [
  {
   "cell_type": "code",
   "execution_count": 163,
   "id": "maritime-november",
   "metadata": {
    "scrolled": false
   },
   "outputs": [
    {
     "name": "stdout",
     "output_type": "stream",
     "text": [
      "   2단            3단 \n",
      " 2 * 1 =  2    3 *  1 =  3\n",
      " 2 * 2 =  4    3 *  2 =  6\n",
      " 2 * 3 =  6    3 *  3 =  9\n",
      " 2 * 4 =  8    3 *  4 = 12\n",
      " 2 * 5 = 10    3 *  5 = 15\n",
      " 2 * 6 = 12    3 *  6 = 18\n",
      " 2 * 7 = 14    3 *  7 = 21\n",
      " 2 * 8 = 16    3 *  8 = 24\n",
      " 2 * 9 = 18    3 *  9 = 27\n",
      "\n",
      "   4단            5단 \n",
      " 4 * 1 =  4    5 *  1 =  5\n",
      " 4 * 2 =  8    5 *  2 = 10\n",
      " 4 * 3 = 12    5 *  3 = 15\n",
      " 4 * 4 = 16    5 *  4 = 20\n",
      " 4 * 5 = 20    5 *  5 = 25\n",
      " 4 * 6 = 24    5 *  6 = 30\n",
      " 4 * 7 = 28    5 *  7 = 35\n",
      " 4 * 8 = 32    5 *  8 = 40\n",
      " 4 * 9 = 36    5 *  9 = 45\n",
      "\n",
      "   6단            7단 \n",
      " 6 * 1 =  6    7 *  1 =  7\n",
      " 6 * 2 = 12    7 *  2 = 14\n",
      " 6 * 3 = 18    7 *  3 = 21\n",
      " 6 * 4 = 24    7 *  4 = 28\n",
      " 6 * 5 = 30    7 *  5 = 35\n",
      " 6 * 6 = 36    7 *  6 = 42\n",
      " 6 * 7 = 42    7 *  7 = 49\n",
      " 6 * 8 = 48    7 *  8 = 56\n",
      " 6 * 9 = 54    7 *  9 = 63\n",
      "\n",
      "   8단            9단 \n",
      " 8 * 1 =  8    9 *  1 =  9\n",
      " 8 * 2 = 16    9 *  2 = 18\n",
      " 8 * 3 = 24    9 *  3 = 27\n",
      " 8 * 4 = 32    9 *  4 = 36\n",
      " 8 * 5 = 40    9 *  5 = 45\n",
      " 8 * 6 = 48    9 *  6 = 54\n",
      " 8 * 7 = 56    9 *  7 = 63\n",
      " 8 * 8 = 64    9 *  8 = 72\n",
      " 8 * 9 = 72    9 *  9 = 81\n",
      "\n"
     ]
    }
   ],
   "source": [
    "#다중 for loop의 예제:구구단\n",
    "for i in range(2,10, 2) : \n",
    "    print(\"   %d단            %d단 \"  %(i, i+1))\n",
    "    for j in range(1,10) : \n",
    "        print(\"{0:2d} * {1:d} = {2:2d}   {3:2d} * {4:2d} = {5:2d}\".format(i, j, i*j, i+1, j, (i+1)*j))\n",
    "    print(\"\")"
   ]
  },
  {
   "cell_type": "code",
   "execution_count": 63,
   "id": "czech-aircraft",
   "metadata": {
    "scrolled": true
   },
   "outputs": [
    {
     "name": "stdout",
     "output_type": "stream",
     "text": [
      "[38, 21, 53]\n"
     ]
    },
    {
     "data": {
      "text/plain": [
       "list"
      ]
     },
     "execution_count": 63,
     "metadata": {},
     "output_type": "execute_result"
    }
   ],
   "source": [
    "a = [38, 21, 53]\n",
    "print(a)\n",
    "type(a)"
   ]
  },
  {
   "cell_type": "code",
   "execution_count": 62,
   "id": "durable-contest",
   "metadata": {},
   "outputs": [
    {
     "name": "stdout",
     "output_type": "stream",
     "text": [
      "[1, 2, 3]\n"
     ]
    },
    {
     "data": {
      "text/plain": [
       "list"
      ]
     },
     "execution_count": 62,
     "metadata": {},
     "output_type": "execute_result"
    }
   ],
   "source": [
    "lst_a = [1, 2,3]\n",
    "print(lst_a)\n",
    "type(lst_a)\n"
   ]
  },
  {
   "cell_type": "code",
   "execution_count": 68,
   "id": "hairy-rugby",
   "metadata": {
    "scrolled": true
   },
   "outputs": [
    {
     "name": "stdout",
     "output_type": "stream",
     "text": [
      "[1, 2, 3]\n"
     ]
    }
   ],
   "source": [
    "lst_b=list(range(1,4))\n",
    "print(lst_b)\n"
   ]
  },
  {
   "cell_type": "code",
   "execution_count": 66,
   "id": "clinical-graph",
   "metadata": {},
   "outputs": [
    {
     "name": "stdout",
     "output_type": "stream",
     "text": [
      "['홍길동', 19, 181.5, True]\n"
     ]
    }
   ],
   "source": [
    "person = ['홍길동', 19, 181.5, True]\n",
    "print(person)"
   ]
  },
  {
   "cell_type": "code",
   "execution_count": 65,
   "id": "dying-tuition",
   "metadata": {},
   "outputs": [
    {
     "name": "stdout",
     "output_type": "stream",
     "text": [
      "[181.5, True]\n"
     ]
    }
   ],
   "source": [
    "print(person[2:]) #슬라이싱 -  특정한 구간지정"
   ]
  },
  {
   "cell_type": "code",
   "execution_count": 96,
   "id": "thick-thing",
   "metadata": {},
   "outputs": [
    {
     "name": "stdout",
     "output_type": "stream",
     "text": [
      "[1, 2, 3]\n"
     ]
    }
   ],
   "source": [
    "lst_a = [1, 2,3]\n",
    "print(lst_a)\n"
   ]
  },
  {
   "cell_type": "code",
   "execution_count": 74,
   "id": "established-familiar",
   "metadata": {},
   "outputs": [
    {
     "name": "stdout",
     "output_type": "stream",
     "text": [
      "('이름', '주소', '학번')\n"
     ]
    }
   ],
   "source": [
    "a = (\"이름\", \"주소\", \"학번\")\n",
    "print(a)"
   ]
  },
  {
   "cell_type": "code",
   "execution_count": 82,
   "id": "satisfied-emerald",
   "metadata": {},
   "outputs": [
    {
     "name": "stdout",
     "output_type": "stream",
     "text": [
      "('이름', '주소')\n"
     ]
    }
   ],
   "source": [
    "print(a[0:2:1])"
   ]
  },
  {
   "cell_type": "code",
   "execution_count": 86,
   "id": "outside-packing",
   "metadata": {},
   "outputs": [
    {
     "ename": "TypeError",
     "evalue": "'tuple' object does not support item assignment",
     "output_type": "error",
     "traceback": [
      "\u001b[1;31m---------------------------------------------------------------------------\u001b[0m",
      "\u001b[1;31mTypeError\u001b[0m                                 Traceback (most recent call last)",
      "\u001b[1;32m<ipython-input-86-ae4f3742d8d7>\u001b[0m in \u001b[0;36m<module>\u001b[1;34m\u001b[0m\n\u001b[1;32m----> 1\u001b[1;33m \u001b[0ma\u001b[0m\u001b[1;33m[\u001b[0m\u001b[1;33m-\u001b[0m\u001b[1;36m1\u001b[0m\u001b[1;33m]\u001b[0m\u001b[1;33m=\u001b[0m\u001b[1;34m\"전화번호\"\u001b[0m \u001b[1;31m#튜플은 값의 수정을 허락하지 않는다.\u001b[0m\u001b[1;33m\u001b[0m\u001b[1;33m\u001b[0m\u001b[0m\n\u001b[0m",
      "\u001b[1;31mTypeError\u001b[0m: 'tuple' object does not support item assignment"
     ]
    }
   ],
   "source": [
    "a[-1]=\"전화번호\" #튜플은 값의 수정을 허락하지 않는다.\n"
   ]
  },
  {
   "cell_type": "code",
   "execution_count": 97,
   "id": "intelligent-murray",
   "metadata": {},
   "outputs": [
    {
     "name": "stdout",
     "output_type": "stream",
     "text": [
      "['이름', '주소', '학번', '전화번호']\n"
     ]
    }
   ],
   "source": [
    "lst1=list(a) #튜플을 리스트(lst1)로전환\n",
    "lst1. append(\"전화번호\")\n",
    "print(lst1)"
   ]
  },
  {
   "cell_type": "code",
   "execution_count": 94,
   "id": "leading-crash",
   "metadata": {},
   "outputs": [
    {
     "name": "stdout",
     "output_type": "stream",
     "text": [
      "['이름', '주소', '학번', '전화번호']\n"
     ]
    }
   ],
   "source": [
    "print(lst1)"
   ]
  },
  {
   "cell_type": "code",
   "execution_count": 98,
   "id": "developed-netscape",
   "metadata": {},
   "outputs": [
    {
     "data": {
      "text/plain": [
       "list"
      ]
     },
     "execution_count": 98,
     "metadata": {},
     "output_type": "execute_result"
    }
   ],
   "source": [
    "type(lst1)"
   ]
  },
  {
   "cell_type": "code",
   "execution_count": 129,
   "id": "statistical-basin",
   "metadata": {},
   "outputs": [
    {
     "ename": "SyntaxError",
     "evalue": "invalid syntax (<ipython-input-129-81e978a309d3>, line 2)",
     "output_type": "error",
     "traceback": [
      "\u001b[1;36m  File \u001b[1;32m\"<ipython-input-129-81e978a309d3>\"\u001b[1;36m, line \u001b[1;32m2\u001b[0m\n\u001b[1;33m    dic1 = {`name` : '홍길동', `phone` : '010-1234-5678', `addr` : '청주시 상당구'}\u001b[0m\n\u001b[1;37m            ^\u001b[0m\n\u001b[1;31mSyntaxError\u001b[0m\u001b[1;31m:\u001b[0m invalid syntax\n"
     ]
    }
   ],
   "source": [
    "#딕셔너리의 생성과 활용\n",
    "dic1 = {`name` : '홍길동', `phone` : '010-1234-5678', `addr` : '청주시 상당구'}\n",
    "print(dic1)"
   ]
  },
  {
   "cell_type": "code",
   "execution_count": 131,
   "id": "miniature-usage",
   "metadata": {},
   "outputs": [
    {
     "name": "stdout",
     "output_type": "stream",
     "text": [
      "{'name': '홍길동', 'phone': '010-1234-5678', 'addr': '청주시 상당구'}\n"
     ]
    }
   ],
   "source": [
    "#딕셔너리의 생성과 활용\n",
    "dic1 = {'name' : '홍길동', 'phone' : '010-1234-5678', 'addr' : '청주시 상당구'}\n",
    "print(dic1)"
   ]
  },
  {
   "cell_type": "code",
   "execution_count": 145,
   "id": "amended-manhattan",
   "metadata": {},
   "outputs": [
    {
     "name": "stdout",
     "output_type": "stream",
     "text": [
      "True\n"
     ]
    }
   ],
   "source": [
    "print('name' in dic1)"
   ]
  },
  {
   "cell_type": "code",
   "execution_count": 134,
   "id": "nasty-corrections",
   "metadata": {},
   "outputs": [
    {
     "name": "stdout",
     "output_type": "stream",
     "text": [
      "dict_values(['홍길동', '010-1234-5678', '청주시 상당구'])\n",
      "dict_keys(['name', 'phone', 'addr'])\n",
      "dict_items([('name', '홍길동'), ('phone', '010-1234-5678'), ('addr', '청주시 상당구')])\n",
      "홍길동\n"
     ]
    }
   ],
   "source": [
    "print(dic1.values())\n",
    "print(dic1.keys())\n",
    "print(dic1.items())\n",
    "print(dic1.get('name'))\n"
   ]
  },
  {
   "cell_type": "code",
   "execution_count": 136,
   "id": "extended-advertising",
   "metadata": {},
   "outputs": [],
   "source": [
    "dic1['name'] = \"춘향\" # value 변경"
   ]
  },
  {
   "cell_type": "code",
   "execution_count": 138,
   "id": "mental-asthma",
   "metadata": {},
   "outputs": [
    {
     "name": "stdout",
     "output_type": "stream",
     "text": [
      "{'name': '춘향', 'phone': '010-1234-5678', 'addr': '청주시 상당구'}\n"
     ]
    }
   ],
   "source": [
    "print(dic1)"
   ]
  },
  {
   "cell_type": "code",
   "execution_count": 140,
   "id": "positive-grocery",
   "metadata": {},
   "outputs": [
    {
     "name": "stdout",
     "output_type": "stream",
     "text": [
      "{'name': '춘향', 'phone': '010-1234-5678', 'addr': '청주시 상당구', 'birthday': 1992}\n"
     ]
    }
   ],
   "source": [
    "dic1['birthday']=1992 #key추가\n",
    "print(dic1)"
   ]
  },
  {
   "cell_type": "code",
   "execution_count": 144,
   "id": "exciting-examination",
   "metadata": {},
   "outputs": [
    {
     "ename": "KeyError",
     "evalue": "'birthday'",
     "output_type": "error",
     "traceback": [
      "\u001b[1;31m---------------------------------------------------------------------------\u001b[0m",
      "\u001b[1;31mKeyError\u001b[0m                                  Traceback (most recent call last)",
      "\u001b[1;32m<ipython-input-144-52512d1b3ff2>\u001b[0m in \u001b[0;36m<module>\u001b[1;34m\u001b[0m\n\u001b[1;32m----> 1\u001b[1;33m \u001b[0mdic1\u001b[0m\u001b[1;33m.\u001b[0m\u001b[0mpop\u001b[0m\u001b[1;33m(\u001b[0m\u001b[1;34m'birthday'\u001b[0m\u001b[1;33m)\u001b[0m\u001b[1;33m\u001b[0m\u001b[1;33m\u001b[0m\u001b[0m\n\u001b[0m",
      "\u001b[1;31mKeyError\u001b[0m: 'birthday'"
     ]
    }
   ],
   "source": [
    "dic1.pop('birthday')\n",
    "\n",
    "\n"
   ]
  },
  {
   "cell_type": "code",
   "execution_count": 146,
   "id": "angry-thought",
   "metadata": {},
   "outputs": [
    {
     "name": "stdout",
     "output_type": "stream",
     "text": [
      "{'name': '춘향', 'phone': '010-1234-5678', 'addr': '청주시 상당구'}\n"
     ]
    }
   ],
   "source": [
    "print(dic1)"
   ]
  },
  {
   "cell_type": "code",
   "execution_count": 147,
   "id": "false-northwest",
   "metadata": {},
   "outputs": [],
   "source": [
    "s1 = set([1,2,3,4,5,6])\n",
    "s2 = set([4,5,6,7,8,9])\n"
   ]
  },
  {
   "cell_type": "code",
   "execution_count": 165,
   "id": "vocal-turning",
   "metadata": {},
   "outputs": [
    {
     "name": "stdout",
     "output_type": "stream",
     "text": [
      "{9, 4, 5, 6}\n",
      "{1, 2, 3, 13}\n"
     ]
    }
   ],
   "source": [
    "print(s1 & s2) #교집합\n",
    "#print(s1  s2) #합집합\n",
    "print(s1 - s2)"
   ]
  },
  {
   "cell_type": "code",
   "execution_count": 175,
   "id": "certified-internship",
   "metadata": {},
   "outputs": [],
   "source": [
    "s1.add(9) #한개의 값만 넣을 때"
   ]
  },
  {
   "cell_type": "code",
   "execution_count": 167,
   "id": "whole-fellow",
   "metadata": {},
   "outputs": [
    {
     "name": "stdout",
     "output_type": "stream",
     "text": [
      "{1, 2, 3, 4, 5, 6, 9, 13}\n"
     ]
    }
   ],
   "source": [
    "print(s1)"
   ]
  },
  {
   "cell_type": "code",
   "execution_count": 169,
   "id": "coated-queue",
   "metadata": {},
   "outputs": [
    {
     "name": "stdout",
     "output_type": "stream",
     "text": [
      "{9, 4, 5, 6}\n"
     ]
    }
   ],
   "source": [
    "print(s1 & s2)"
   ]
  },
  {
   "cell_type": "code",
   "execution_count": 173,
   "id": "preliminary-newfoundland",
   "metadata": {},
   "outputs": [
    {
     "name": "stdout",
     "output_type": "stream",
     "text": [
      "{1, 4, 5, 6, 7, 8, 9}\n"
     ]
    }
   ],
   "source": [
    "s2.update([1,5]) #여러개의 값을 넣을 때\n",
    "print(s2)"
   ]
  }
 ],
 "metadata": {
  "kernelspec": {
   "display_name": "Python 3",
   "language": "python",
   "name": "python3"
  },
  "language_info": {
   "codemirror_mode": {
    "name": "ipython",
    "version": 3
   },
   "file_extension": ".py",
   "mimetype": "text/x-python",
   "name": "python",
   "nbconvert_exporter": "python",
   "pygments_lexer": "ipython3",
   "version": "3.9.2"
  }
 },
 "nbformat": 4,
 "nbformat_minor": 5
}
