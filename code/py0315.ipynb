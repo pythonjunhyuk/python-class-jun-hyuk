{
 "cells": [
  {
   "cell_type": "markdown",
   "id": "advisory-metadata",
   "metadata": {},
   "source": [
    "# DAY04 : 제어문의 활용\n",
    "```python\n",
    "\n",
    "if 조건식 : \n",
    "    실행할문장\n",
    "```"
   ]
  },
  {
   "cell_type": "code",
   "execution_count": 5,
   "id": "plastic-destruction",
   "metadata": {},
   "outputs": [
    {
     "name": "stdout",
     "output_type": "stream",
     "text": [
      "숫자를 입력하세요.22\n",
      "짝수입니다.\n",
      "프로그램을 종료합니다.\n"
     ]
    }
   ],
   "source": [
    "# 홀수 짝수 판단\n",
    "number = int(input(\"숫자를 입력하세요.\"))\n",
    " # 숫자를 2로 나눈 나머지가 0이면 짝수, 아니면 홀수 \n",
    "if (number % 2) == 0 :  #반드시 == 두개써야함\n",
    "    pass\n",
    "    print(\"짝수입니다.\")\n",
    "else : \n",
    "    print(\"홀수입니다.\")\n",
    "print(\"프로그램을 종료합니다.\")\n",
    "    \n",
    "    "
   ]
  },
  {
   "cell_type": "code",
   "execution_count": 10,
   "id": "resistant-queensland",
   "metadata": {},
   "outputs": [
    {
     "name": "stdout",
     "output_type": "stream",
     "text": [
      "성별을 입력하세요(M:남자/F:여자) : M\n",
      "나이를 입력하세요. : 33\n",
      "30대 남자\n"
     ]
    }
   ],
   "source": [
    "gender = input(\"성별을 입력하세요(M:남자/F:여자) : \")\n",
    "age = int(input(\"나이를 입력하세요. : \"))\n",
    "if gender == 'M' or gender == 'm' :\n",
    "    if age >= 40 :\n",
    "        print(\"40대 이상 남자\")\n",
    "    elif age >= 30 : \n",
    "        print(\"30대 남자\")\n",
    "    elif age >= 20 :\n",
    "        print(\"20대 남자\")\n",
    "    else:\n",
    "        print(\"10대 이하 남자\")\n",
    "else :\n",
    "    if age >= 40 :\n",
    "        print(\"40대 이상 여자\")\n",
    "    elif age >= 30 : \n",
    "        print(\"30대 여자\")\n",
    "    elif age >= 20 :\n",
    "        print(\"20대 여자\")\n",
    "    else:\n",
    "        print(\"10대 이하 여자\") "
   ]
  },
  {
   "cell_type": "code",
   "execution_count": 38,
   "id": "optional-cleveland",
   "metadata": {},
   "outputs": [
    {
     "name": "stdout",
     "output_type": "stream",
     "text": [
      "국어점수 : 95\n",
      "수학점수 : 98\n",
      "사회점수 : 97\n",
      "S\n",
      "290\n",
      "96.66666666666667\n",
      "S 290 96.66666666666667\n",
      "총점: 290 평균: 96.66666666666667 등급: S \n"
     ]
    }
   ],
   "source": [
    "#국어, 수학, 사회 3과목의 점수를 입력받아 총점과 평균을 구하고 평균이 90점 이상이면 A등급을,\n",
    "#80 이상이면 B등급을, 70 이상이면 C등급을\n",
    "#그 외, 즉 69점 이하이면 F등급을 붕하는 프로그램을 작성하시오.\n",
    "\n",
    "#Pseudo Code 의사코드 ; \n",
    "\n",
    "korea = int(input(\"국어점수 : \"))\n",
    "math = int(input(\"수학점수 : \"))\n",
    "soc = int(input(\"사회점수 : \"))\n",
    "\n",
    "#총점은 \n",
    "total = korea + math + soc\n",
    "\n",
    "#평균은\n",
    "avg = total / 3\n",
    "\n",
    "if avg >=90 :\n",
    "    grade = 'S'\n",
    "elif avg >=80 :\n",
    "    grade = 'B'\n",
    "elif avg>=70 : \n",
    "    grade = 'C'\n",
    "else : \n",
    "    grade = 'F'\n",
    "\n",
    "print(grade)\n",
    "print(total)\n",
    "print(avg)\n",
    "\n",
    "print(grade, total, avg)\n",
    "\n",
    "print(\"총점: {0} 평균: {1} 등급: {2} \".format(total, avg, grade)) \n"
   ]
  },
  {
   "cell_type": "code",
   "execution_count": 49,
   "id": "premium-funeral",
   "metadata": {},
   "outputs": [
    {
     "name": "stdout",
     "output_type": "stream",
     "text": [
      "나이 : 45\n",
      "탑승회수 : 4\n",
      "총액 : 9000\n",
      "잔액: 4000 \n"
     ]
    }
   ],
   "source": [
    "age = int(input(\"나이 : \"))\n",
    "\n",
    "if 7 <= age <= 12 :\n",
    "    charge = 650\n",
    "elif 13 <= age <= 18 :\n",
    "    charge = 1050\n",
    "else : \n",
    "    charge = 1250\n",
    "\n",
    "탑승회수 =int(input(\"탑승회수 : \"))\n",
    "총액 = int(input(\"총액 : \"))    \n",
    "잔액 = 총액-charge*탑승회수\n",
    "\n",
    "print(\"잔액: {} \".format(잔액))\n"
   ]
  },
  {
   "cell_type": "code",
   "execution_count": 53,
   "id": "spectacular-alignment",
   "metadata": {},
   "outputs": [
    {
     "name": "stdout",
     "output_type": "stream",
     "text": [
      "합격\n"
     ]
    }
   ],
   "source": [
    "#삼항연산자\n",
    "score = 70\n",
    "result = ''\n",
    "result = '합격' if score >=60 else '불합격'\n",
    "print(result)"
   ]
  },
  {
   "cell_type": "code",
   "execution_count": 71,
   "id": "otherwise-remark",
   "metadata": {},
   "outputs": [
    {
     "name": "stdout",
     "output_type": "stream",
     "text": [
      "for문을 공부중입니다.  i값 :  11\n",
      "for문을 공부중입니다.  i값 :  10\n",
      "for문을 공부중입니다.  i값 :  9\n",
      "for문을 공부중입니다.  i값 :  8\n",
      "for문을 공부중입니다.  i값 :  7\n",
      "for문을 공부중입니다.  i값 :  6\n",
      "for문을 공부중입니다.  i값 :  5\n",
      "for문을 공부중입니다.  i값 :  4\n",
      "for문을 공부중입니다.  i값 :  3\n",
      "for문을 공부중입니다.  i값 :  2\n"
     ]
    }
   ],
   "source": [
    "for i in range(11,1,-1) : # [0,1,2]\n",
    "    print(\"for문을 공부중입니다.\", \" i값 : \", i)"
   ]
  },
  {
   "cell_type": "code",
   "execution_count": 65,
   "id": "instructional-trading",
   "metadata": {},
   "outputs": [
    {
     "ename": "SyntaxError",
     "evalue": "invalid syntax (<ipython-input-65-bc3bcba9e784>, line 6)",
     "output_type": "error",
     "traceback": [
      "\u001b[1;36m  File \u001b[1;32m\"<ipython-input-65-bc3bcba9e784>\"\u001b[1;36m, line \u001b[1;32m6\u001b[0m\n\u001b[1;33m    go to repeat\u001b[0m\n\u001b[1;37m       ^\u001b[0m\n\u001b[1;31mSyntaxError\u001b[0m\u001b[1;31m:\u001b[0m invalid syntax\n"
     ]
    }
   ],
   "source": [
    "i=0\n",
    "label : repeat\n",
    "if i < 3 : \n",
    "        print(\"for문을 공부중입니다.\")\n",
    "        i = i + 1 \n",
    "        go to repeat"
   ]
  },
  {
   "cell_type": "code",
   "execution_count": 94,
   "id": "incredible-fifty",
   "metadata": {},
   "outputs": [
    {
     "name": "stdout",
     "output_type": "stream",
     "text": [
      "1부터 10까지의 합 : 55\n"
     ]
    }
   ],
   "source": [
    "#1부터 10까지의 합계를 구하는 프로그램을 만들어보세요\n",
    "#1~10중 3의 배수의 합계를 구하는 프로그램을 만들어보세요\n",
    "sum = 0\n",
    "for number in range(1, 11) : \n",
    "    sum += number # sum은 sum+number\n",
    "print(\"1부터 10까지의 합 : %d\" % sum)"
   ]
  },
  {
   "cell_type": "code",
   "execution_count": 97,
   "id": "organizational-marketplace",
   "metadata": {},
   "outputs": [
    {
     "name": "stdout",
     "output_type": "stream",
     "text": [
      "1부터 10까지의 수중에서 3배수의 합 : 18\n"
     ]
    }
   ],
   "source": [
    "sum = 0\n",
    "for number in range(11) : \n",
    "    if number % 3 == 0 :\n",
    "        sum += number\n",
    "print(\"1부터 10까지의 수중에서 3배수의 합 : %d\" %sum) # 3 6 9"
   ]
  },
  {
   "cell_type": "code",
   "execution_count": 103,
   "id": "capital-rugby",
   "metadata": {},
   "outputs": [
    {
     "name": "stdout",
     "output_type": "stream",
     "text": [
      "for문을 공부중입니다.  i값 :  0\n",
      "for문을 공부중입니다.  i값 :  1\n",
      "for문을 공부중입니다.  i값 :  2\n",
      "for문을 공부중입니다.  i값 :  3\n",
      "for문을 공부중입니다.  i값 :  4\n",
      "for문을 공부중입니다.  i값 :  5\n",
      "for문을 공부중입니다.  i값 :  6\n",
      "for문을 공부중입니다.  i값 :  7\n",
      "for문을 공부중입니다.  i값 :  8\n",
      "for문을 공부중입니다.  i값 :  9\n",
      "for문을 공부중입니다.  i값 :  10\n"
     ]
    }
   ],
   "source": [
    "for i in range(11) : # [0,1,2]\n",
    "    print(\"for문을 공부중입니다.\", \" i값 : \", i)"
   ]
  },
  {
   "cell_type": "code",
   "execution_count": 109,
   "id": "faced-mandate",
   "metadata": {},
   "outputs": [
    {
     "name": "stdout",
     "output_type": "stream",
     "text": [
      "50\n",
      "40\n",
      "30\n",
      "korea\n",
      "10\n"
     ]
    }
   ],
   "source": [
    "a = [10, \"korea\", 30, 40, 50] # 리스트의 생성\n",
    "for data in reversed(a):\n",
    "    print(data)"
   ]
  },
  {
   "cell_type": "code",
   "execution_count": 121,
   "id": "tough-hybrid",
   "metadata": {},
   "outputs": [
    {
     "name": "stdout",
     "output_type": "stream",
     "text": [
      "55\n",
      "짝수의 합계 : 30, 홀수의 합계 : 25\n"
     ]
    }
   ],
   "source": [
    "#while은 loop을이용, 1~10까지의합\n",
    "number = 1\n",
    "sum = 0\n",
    "while number < 11 :\n",
    "    sum += number\n",
    "    number += 1\n",
    "print(sum)\n",
    "    \n",
    "    \n",
    "# 1~10까지의 합을 홀수의 합과 짝수의 합을 구분하여 구하시오\n",
    "oddsum = 0; evensum = 0\n",
    "number = 1\n",
    "while number < 11 :\n",
    "    if number % 2 == 0 :\n",
    "        evensum += number\n",
    "    else : \n",
    "        oddsum += number\n",
    "    number += 1\n",
    "print(\"짝수의 합계 : %d, 홀수의 합계 : %d\"%(evensum, oddsum))\n",
    "    "
   ]
  }
 ],
 "metadata": {
  "kernelspec": {
   "display_name": "Python 3",
   "language": "python",
   "name": "python3"
  },
  "language_info": {
   "codemirror_mode": {
    "name": "ipython",
    "version": 3
   },
   "file_extension": ".py",
   "mimetype": "text/x-python",
   "name": "python",
   "nbconvert_exporter": "python",
   "pygments_lexer": "ipython3",
   "version": "3.9.2"
  }
 },
 "nbformat": 4,
 "nbformat_minor": 5
}
