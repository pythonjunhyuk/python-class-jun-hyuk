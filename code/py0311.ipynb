{
 "cells": [
  {
   "cell_type": "code",
   "execution_count": null,
   "id": "fitted-freight",
   "metadata": {},
   "outputs": [],
   "source": []
  },
  {
   "cell_type": "code",
   "execution_count": 22,
   "id": "rolled-tunisia",
   "metadata": {},
   "outputs": [
    {
     "name": "stdout",
     "output_type": "stream",
     "text": [
      "5는 10보다 크다\n",
      "*********\n",
      "프로그램이 종료되었습니다.\n"
     ]
    }
   ],
   "source": [
    "# 파이썬에서 들여쓰기는 문법사항\n",
    "# 필요한 곳에서 하지 않으면 오류발생\n",
    "if 5 < 10 :\n",
    " print(\"5는 10보다 크다\")\n",
    " print(\"*********\")\n",
    "print(\"프로그램이 종료되었습니다.\")"
   ]
  },
  {
   "cell_type": "code",
   "execution_count": 34,
   "id": "labeled-reynolds",
   "metadata": {},
   "outputs": [
    {
     "name": "stdout",
     "output_type": "stream",
     "text": [
      "30\n"
     ]
    }
   ],
   "source": [
    "# 변수 : 프로그램이 사용할 데이터를 기억하는 저장 공간\n",
    "birthyear = 1992 # birthyear 라는 변수는 1992 라는 값을 저장하고 있고\n",
    "age = 2021 - birthyear +1 # age라는 변수는 2021 - birthyear +1의 연산결과를 저장한다\n",
    "print(age) # age에 저장된 값을 출력한다.\n",
    "\n",
    "## J.N : cell나누기 : 커서 위치에서 CTRL SHIFT -(넘버키쪽 말고) 누르면 셀이 나눠짐"
   ]
  },
  {
   "cell_type": "code",
   "execution_count": 86,
   "id": "regular-material",
   "metadata": {},
   "outputs": [],
   "source": [
    "# 타입Type : 숫자(정수형, 실수형), 문자(열), Boolean\n",
    "numberInt = 100 #정수형 타입\n",
    "numberFloat = 1.234 #실수형 타입\n",
    "varChar = 'A' #문자형 타입\n",
    "varStr = 'Korea' #문자열 타입\n",
    "varBool = True # Bool 타입"
   ]
  },
  {
   "cell_type": "code",
   "execution_count": 90,
   "id": "falling-paraguay",
   "metadata": {
    "scrolled": true
   },
   "outputs": [
    {
     "name": "stdout",
     "output_type": "stream",
     "text": [
      "True\n"
     ]
    }
   ],
   "source": [
    "# 파이썬에는 tpye() 함수가 있어서 DATA TYPE을 확인 할 수 있다.\n",
    "type(numberInt)\n",
    "print(isinstance(numberInt, int))"
   ]
  },
  {
   "cell_type": "code",
   "execution_count": 97,
   "id": "growing-animation",
   "metadata": {},
   "outputs": [
    {
     "data": {
      "text/plain": [
       "int"
      ]
     },
     "execution_count": 97,
     "metadata": {},
     "output_type": "execute_result"
    }
   ],
   "source": [
    "type(numberInt)"
   ]
  },
  {
   "cell_type": "code",
   "execution_count": 101,
   "id": "corporate-glossary",
   "metadata": {},
   "outputs": [
    {
     "data": {
      "text/plain": [
       "float"
      ]
     },
     "execution_count": 101,
     "metadata": {},
     "output_type": "execute_result"
    }
   ],
   "source": [
    "type(numberFloat)"
   ]
  },
  {
   "cell_type": "code",
   "execution_count": 103,
   "id": "racial-timeline",
   "metadata": {},
   "outputs": [
    {
     "data": {
      "text/plain": [
       "str"
      ]
     },
     "execution_count": 103,
     "metadata": {},
     "output_type": "execute_result"
    }
   ],
   "source": [
    "type(varChar)"
   ]
  },
  {
   "cell_type": "code",
   "execution_count": 105,
   "id": "veterinary-foster",
   "metadata": {},
   "outputs": [
    {
     "data": {
      "text/plain": [
       "str"
      ]
     },
     "execution_count": 105,
     "metadata": {},
     "output_type": "execute_result"
    }
   ],
   "source": [
    "type(varStr)"
   ]
  },
  {
   "cell_type": "code",
   "execution_count": 106,
   "id": "activated-inspiration",
   "metadata": {},
   "outputs": [
    {
     "data": {
      "text/plain": [
       "bool"
      ]
     },
     "execution_count": 106,
     "metadata": {},
     "output_type": "execute_result"
    }
   ],
   "source": [
    "type(varBool)"
   ]
  },
  {
   "cell_type": "code",
   "execution_count": 115,
   "id": "recreational-rouge",
   "metadata": {},
   "outputs": [
    {
     "name": "stdout",
     "output_type": "stream",
     "text": [
      "태어난 해를 입력하세요. : 1992\n"
     ]
    },
    {
     "data": {
      "text/plain": [
       "int"
      ]
     },
     "execution_count": 115,
     "metadata": {},
     "output_type": "execute_result"
    }
   ],
   "source": [
    "# 입력함수 input(\"메세지\")\n",
    "#input()\n",
    "birthYear = int(input(\"태어난 해를 입력하세요. : \"))\n",
    "type(birthYear)\n",
    "#age = 2021 - birthYear\n",
    "#print(age)"
   ]
  },
  {
   "cell_type": "code",
   "execution_count": 127,
   "id": "attempted-stability",
   "metadata": {
    "scrolled": false
   },
   "outputs": [
    {
     "name": "stdout",
     "output_type": "stream",
     "text": [
      "koreaIT\n",
      "11\n",
      "age : \n",
      "10\n",
      "koreakoreakoreakoreakoreakoreakoreakoreakorea\n",
      "==================================================\n"
     ]
    }
   ],
   "source": [
    "print(\"korea\" + \"IT\") # +는 문자열 2개를 결합의 의미로 사용\n",
    "print(5+6) # 숫자끼리일때는 더하기 / 문자열 + 숫자로 하면 계산안됌\n",
    "#print(\"age : \", 10)\n",
    "print(\"age : \")\n",
    "print(10)\n",
    "\n",
    "print(\"korea\" * 9)\n",
    "print(\"=\" * 50)"
   ]
  },
  {
   "cell_type": "code",
   "execution_count": 150,
   "id": "considered-press",
   "metadata": {},
   "outputs": [
    {
     "name": "stdout",
     "output_type": "stream",
     "text": [
      "10살\n",
      "1.240000%\n",
      "age :*10*살\tage : 10세\n",
      "10 3.140000 korea\n"
     ]
    }
   ],
   "source": [
    "print(\"%d살\"%10)\n",
    "print(\"%f%%\"%1.24)\n",
    "print(\"age :\",10,\"살\", sep=\"*\", end=\"\\t\")\n",
    "print(\"age : %d세\"%10)\n",
    "\n",
    "print(\"%d %f %s\"%(10, 3.14,\"korea\"))"
   ]
  },
  {
   "cell_type": "code",
   "execution_count": 5,
   "id": "subsequent-harmony",
   "metadata": {
    "scrolled": true
   },
   "outputs": [
    {
     "ename": "SyntaxError",
     "evalue": "cannot assign to function call (<ipython-input-5-93774460e1d9>, line 2)",
     "output_type": "error",
     "traceback": [
      "\u001b[1;36m  File \u001b[1;32m\"<ipython-input-5-93774460e1d9>\"\u001b[1;36m, line \u001b[1;32m2\u001b[0m\n\u001b[1;33m    int(a) = '2021'\u001b[0m\n\u001b[1;37m    ^\u001b[0m\n\u001b[1;31mSyntaxError\u001b[0m\u001b[1;31m:\u001b[0m cannot assign to function call\n"
     ]
    }
   ],
   "source": [
    "print('안녕하세요. 오늘은 {a}년 {b}월 {c}일입니다. : '.format(a, b, c))\n",
    "int(a) = '2021'\n",
    "int(b) = '3'\n",
    "int(c) = '11'"
   ]
  },
  {
   "cell_type": "code",
   "execution_count": null,
   "id": "union-knight",
   "metadata": {},
   "outputs": [],
   "source": [
    "num1 = 10\n",
    "num2 = 2\n",
    "print(num1 = num2) # %은 나머지 %%은 제곱 / 은 나누기"
   ]
  },
  {
   "cell_type": "code",
   "execution_count": 190,
   "id": "saved-basic",
   "metadata": {},
   "outputs": [
    {
     "name": "stdout",
     "output_type": "stream",
     "text": [
      "True\n"
     ]
    }
   ],
   "source": [
    "print(not(10>20))"
   ]
  },
  {
   "cell_type": "code",
   "execution_count": 197,
   "id": "finished-texas",
   "metadata": {},
   "outputs": [
    {
     "name": "stdout",
     "output_type": "stream",
     "text": [
      "5\n"
     ]
    }
   ],
   "source": [
    "#print(bin(7))\n",
    "print(5 & 7)"
   ]
  },
  {
   "cell_type": "code",
   "execution_count": 199,
   "id": "efficient-gates",
   "metadata": {
    "scrolled": true
   },
   "outputs": [
    {
     "ename": "NameError",
     "evalue": "name 'and_' is not defined",
     "output_type": "error",
     "traceback": [
      "\u001b[1;31m---------------------------------------------------------------------------\u001b[0m",
      "\u001b[1;31mNameError\u001b[0m                                 Traceback (most recent call last)",
      "\u001b[1;32m<ipython-input-199-ac59db712642>\u001b[0m in \u001b[0;36m<module>\u001b[1;34m\u001b[0m\n\u001b[1;32m----> 1\u001b[1;33m \u001b[0mprint\u001b[0m\u001b[1;33m(\u001b[0m\u001b[0mand_\u001b[0m\u001b[1;33m(\u001b[0m\u001b[1;36m3\u001b[0m\u001b[1;33m,\u001b[0m \u001b[1;36m5\u001b[0m\u001b[1;33m)\u001b[0m\u001b[1;33m)\u001b[0m\u001b[1;33m\u001b[0m\u001b[1;33m\u001b[0m\u001b[0m\n\u001b[0m",
      "\u001b[1;31mNameError\u001b[0m: name 'and_' is not defined"
     ]
    }
   ],
   "source": [
    "print(and_(3, 5))"
   ]
  }
 ],
 "metadata": {
  "kernelspec": {
   "display_name": "Python 3",
   "language": "python",
   "name": "python3"
  },
  "language_info": {
   "codemirror_mode": {
    "name": "ipython",
    "version": 3
   },
   "file_extension": ".py",
   "mimetype": "text/x-python",
   "name": "python",
   "nbconvert_exporter": "python",
   "pygments_lexer": "ipython3",
   "version": "3.9.2"
  }
 },
 "nbformat": 4,
 "nbformat_minor": 5
}
