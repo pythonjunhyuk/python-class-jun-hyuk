{
 "cells": [
  {
   "cell_type": "code",
   "execution_count": 25,
   "id": "sustained-diana",
   "metadata": {},
   "outputs": [],
   "source": [
    "class Polygon:\n",
    "    def __init__(self, noOFSides):\n",
    "        self.n=noOFSides\n",
    "        self.sides=[0 for i in range(noOFSides)]\n",
    "    def inputSides(self):\n",
    "        self.sides = [float(input(str(i+1) + \"번째 변의 길이 :\")) \\\n",
    "                      for i in range(self.n)]\n",
    "    def dispSides(self):\n",
    "        for i in range(self.n):\n",
    "            print(i+1, \"번째 변 :\", self.sides[i])"
   ]
  },
  {
   "cell_type": "code",
   "execution_count": 26,
   "id": "committed-speech",
   "metadata": {},
   "outputs": [],
   "source": [
    "class Triangle(Polygon):\n",
    "    def __init__(self):\n",
    "        Polygon.__init__(self, 3)\n",
    "        \n",
    "    def findArea(self):\n",
    "        a, b, c = self.sides\n",
    "        s = (a+b+c) / 2\n",
    "        area = (s*(s-a)*(s-b)*(s-c))**0.5\n",
    "        print(\"삼각형의 넓이 : %10.2f\" %area)"
   ]
  },
  {
   "cell_type": "code",
   "execution_count": 27,
   "id": "saving-button",
   "metadata": {
    "scrolled": true
   },
   "outputs": [],
   "source": [
    "t = Triangle()"
   ]
  },
  {
   "cell_type": "code",
   "execution_count": 31,
   "id": "finished-level",
   "metadata": {},
   "outputs": [
    {
     "name": "stdout",
     "output_type": "stream",
     "text": [
      "1번째 변의 길이 :6\n",
      "2번째 변의 길이 :4\n",
      "3번째 변의 길이 :8\n"
     ]
    }
   ],
   "source": [
    "t.inputSides()"
   ]
  },
  {
   "cell_type": "code",
   "execution_count": 33,
   "id": "lyric-greek",
   "metadata": {},
   "outputs": [
    {
     "name": "stdout",
     "output_type": "stream",
     "text": [
      "삼각형의 넓이 :      11.62\n"
     ]
    }
   ],
   "source": [
    "t.findArea()"
   ]
  },
  {
   "cell_type": "code",
   "execution_count": 49,
   "id": "published-smoke",
   "metadata": {},
   "outputs": [],
   "source": [
    "class Person:\n",
    "    def __init__(self): \n",
    "        print(\"Person클래스의 생성자\")\n",
    "        self.hello= \"안녕하세요\"\n",
    "        \n",
    "        \n",
    "class Student(Person):\n",
    "    def __init__(self):\n",
    "        super().__init__() ##\n",
    "        print(\"Student클래스의 생성자\")\n",
    "        self.school= \"한국아이티\""
   ]
  },
  {
   "cell_type": "code",
   "execution_count": 51,
   "id": "virgin-nashville",
   "metadata": {},
   "outputs": [
    {
     "name": "stdout",
     "output_type": "stream",
     "text": [
      "Person클래스의 생성자\n",
      "Student클래스의 생성자\n"
     ]
    }
   ],
   "source": [
    "hong = Student()"
   ]
  },
  {
   "cell_type": "code",
   "execution_count": 66,
   "id": "outstanding-milton",
   "metadata": {},
   "outputs": [],
   "source": [
    "class Person:\n",
    "    def greeting(self):\n",
    "        print(\"안녕하세요\")\n",
    "        \n",
    "class University:\n",
    "    def manage_credit(self):\n",
    "        print('학점 관리')\n",
    "\n",
    "class Undergraduate(Person, University):\n",
    "    def study(self):\n",
    "        print('공부하기')\n",
    "    "
   ]
  },
  {
   "cell_type": "code",
   "execution_count": 67,
   "id": "demographic-delay",
   "metadata": {},
   "outputs": [],
   "source": [
    "hong = Undergraduate()"
   ]
  },
  {
   "cell_type": "code",
   "execution_count": 75,
   "id": "collectible-footage",
   "metadata": {},
   "outputs": [
    {
     "name": "stdout",
     "output_type": "stream",
     "text": [
      "안녕하세요\n",
      "학점 관리\n",
      "공부하기\n"
     ]
    }
   ],
   "source": [
    "hong.greeting()\n",
    "hong.manage_credit()\n",
    "hong.study()"
   ]
  },
  {
   "cell_type": "code",
   "execution_count": 90,
   "id": "wired-nevada",
   "metadata": {},
   "outputs": [
    {
     "name": "stdout",
     "output_type": "stream",
     "text": [
      "공부하기\n",
      "학교가기\n"
     ]
    }
   ],
   "source": [
    "from abc import *\n",
    "class StudentBase(metaclass=ABCMeta):\n",
    "    @abstractmethod\n",
    "    def study(self):\n",
    "        pass\n",
    "    \n",
    "    @abstractmethod\n",
    "    def go_to_school(self):\n",
    "        pass\n",
    "    \n",
    "class Student(StudentBase):\n",
    "    def study(self):\n",
    "        print('공부하기')\n",
    "        \n",
    "    def go_to_school(self):\n",
    "        print('학교가기')\n",
    "        \n",
    "hong = Student()\n",
    "hong.study()\n",
    "hong.go_to_school()"
   ]
  }
 ],
 "metadata": {
  "kernelspec": {
   "display_name": "Python 3",
   "language": "python",
   "name": "python3"
  },
  "language_info": {
   "codemirror_mode": {
    "name": "ipython",
    "version": 3
   },
   "file_extension": ".py",
   "mimetype": "text/x-python",
   "name": "python",
   "nbconvert_exporter": "python",
   "pygments_lexer": "ipython3",
   "version": "3.9.2"
  }
 },
 "nbformat": 4,
 "nbformat_minor": 5
}
