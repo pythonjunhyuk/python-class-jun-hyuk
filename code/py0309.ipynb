{
 "cells": [
  {
   "cell_type": "markdown",
   "id": "sensitive-blake",
   "metadata": {},
   "source": [
    "# 2일차 수업 : 파이썬의 기본문법"
   ]
  },
  {
   "cell_type": "markdown",
   "id": "communist-practice",
   "metadata": {},
   "source": [
    "# Jupyter Notebook 사용법\n",
    "\n",
    "* 셀 :  \n",
    "  \n",
    "* Code 와 Markdown 모드의 변경 : ESC 누르고 m을 누르면 Markdown 상태로 바뀜, y를 누르면 code상태  \n",
    "  \n",
    "* 셀의 실행 : \n",
    "  * Ctrl + Enter -> 실행만  \n",
    "  * Shift + Enter -> 실행 후 아래 셀로 이동/추가  \n",
    "  * Alt + Enter -> 실행 후 아래 셀로 이동  \n",
    "  * ESC 누르고 DD누르면 -> 셀삭제\n",
    "              \n",
    "* 셀의 추가 : 현재 셀의 위에 추가할때는 a / 아래에 추가할때는 b  \n",
    "\n",
    "##### 마크다운 상태에서는 줄바꿈을 표현하려면 스페이스 두개로 공백을 표현해주기.\n"
   ]
  },
  {
   "cell_type": "markdown",
   "id": "inclusive-administration",
   "metadata": {},
   "source": [
    "# 제목1\n",
    "## 제목2\n",
    "### 제목3\n",
    "#### 제목4\n",
    "##### 제목5\n",
    "###### 제목6\n"
   ]
  },
  {
   "cell_type": "markdown",
   "id": "technical-magnitude",
   "metadata": {},
   "source": [
    "## 1. print() 함수의 활용\n",
    "파이썬에서 출력을 위해서는 print() 함수를 사용한다.  \n",
    "``` Python\n",
    "print(\"문자열\")\n",
    "print(\"수식\")\n",
    "print(숫자값)\n",
    "```\n",
    "\n",
    "아래 셀에서 실습을 해보자.\n",
    "\n",
    "\n"
   ]
  },
  {
   "cell_type": "code",
   "execution_count": 1,
   "id": "north-detail",
   "metadata": {},
   "outputs": [
    {
     "name": "stdout",
     "output_type": "stream",
     "text": [
      "Hello\n",
      "Python\n"
     ]
    }
   ],
   "source": [
    "print(\"Hello\")\n",
    "print('Python')"
   ]
  },
  {
   "cell_type": "markdown",
   "id": "timely-edward",
   "metadata": {},
   "source": [
    "## 2. 파이썬의 주석\n",
    "파이썬의 주석은 행단위의 주석과 블럭단위의 주석이 있다.  \n",
    "- 행단위의 주석\n",
    "```python\n",
    "# 이 코드는 행 단위의 주석을 설명합니다.\n",
    "print(\"Hello Python\") # 여기도 주석입니다.\n",
    "# print(\"Hello Python\")\n",
    "```\n",
    "\n",
    "행의 맨 앞에 # 기호가 붙으면 그 행 전체는 주석으로 처리하여 실행하지 않는다.\n",
    "코드의 중간에서 # 기호를 넣으면 그 뒤는 주석으로 처리한다.\n",
    "- 블럭단위 주석\n",
    "```python\n",
    "# 주석 1\n",
    "# 주석 2\n",
    "# 주석 3\n",
    "print(\"Hello\")\n",
    "```"
   ]
  },
  {
   "cell_type": "code",
   "execution_count": 1,
   "id": "massive-alaska",
   "metadata": {},
   "outputs": [
    {
     "name": "stdout",
     "output_type": "stream",
     "text": [
      "Hello Python\n"
     ]
    }
   ],
   "source": [
    "# 이 코드는 행 단위의 주석을 설명합니다.\n",
    "print(\"Hello Python\") # 여기도 주석입니다.\n",
    "# print(\"Hello Python\")"
   ]
  },
  {
   "cell_type": "code",
   "execution_count": 2,
   "id": "czech-while",
   "metadata": {},
   "outputs": [
    {
     "name": "stdout",
     "output_type": "stream",
     "text": [
      "Hello\n"
     ]
    }
   ],
   "source": [
    "# 주석 1\n",
    "# 주석 2\n",
    "# 주석 3\n",
    "print(\"Hello\")"
   ]
  }
 ],
 "metadata": {
  "kernelspec": {
   "display_name": "Python 3",
   "language": "python",
   "name": "python3"
  },
  "language_info": {
   "codemirror_mode": {
    "name": "ipython",
    "version": 3
   },
   "file_extension": ".py",
   "mimetype": "text/x-python",
   "name": "python",
   "nbconvert_exporter": "python",
   "pygments_lexer": "ipython3",
   "version": "3.9.2"
  }
 },
 "nbformat": 4,
 "nbformat_minor": 5
}
